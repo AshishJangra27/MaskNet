{
 "cells": [
  {
   "cell_type": "code",
   "execution_count": 2,
   "metadata": {},
   "outputs": [],
   "source": [
    "import os\n",
    "import cv2 as cv\n",
    "import numpy as np\n",
    "import matplotlib.pyplot as plt\n",
    "\n",
    "from keras.models import load_model\n",
    "from tensorflow.keras.applications.mobilenet import preprocess_input\n",
    "\n",
    "mdl = load_model('MaskNet.hdf5')"
   ]
  },
  {
   "cell_type": "code",
   "execution_count": 3,
   "metadata": {},
   "outputs": [],
   "source": [
    "face_cascade = cv.CascadeClassifier('haarcascade_frontalface_default.xml')\n",
    "cap = cv.VideoCapture(0)\n",
    "\n",
    "while True:\n",
    "    _, img = cap.read()\n",
    "    image = cv.flip(img , 1)\n",
    "    img = cv.cvtColor(image, cv.COLOR_BGR2RGB)\n",
    "\n",
    "    gray = cv.cvtColor(img, cv.COLOR_BGR2GRAY)\n",
    "\n",
    "    faces = face_cascade.detectMultiScale(gray, 1.5, 4)\n",
    "\n",
    "    if (len(faces)):\n",
    "        \n",
    "        for (x, y, w, h) in faces:\n",
    "            \n",
    "            roi = img[y-100:y+h+100,x-100:x+w+100]\n",
    "            im = cv.resize(roi, (224,224))\n",
    "            im = np.expand_dims(im, axis = 0)\n",
    "            \n",
    "            im = preprocess_input(im)\n",
    "\n",
    "            if np.argmax(mdl.predict(im)) == 0:\n",
    "                cv.rectangle(image, (x, y), (x+w, y+h), (0, 255, 0), 2)\n",
    "            else:\n",
    "                cv.rectangle(image, (x, y), (x+w, y+h), (0, 0,255), 2)\n",
    "\n",
    "        cv.imshow('img', image)\n",
    "    cv.imshow('img', image)\n",
    "\n",
    "    k = cv.waitKey(30)\n",
    "    if k==27:\n",
    "        break"
   ]
  },
  {
   "cell_type": "code",
   "execution_count": 4,
   "metadata": {},
   "outputs": [],
   "source": [
    "cap.release()"
   ]
  },
  {
   "cell_type": "code",
   "execution_count": null,
   "metadata": {},
   "outputs": [],
   "source": []
  }
 ],
 "metadata": {
  "kernelspec": {
   "display_name": "Python 2",
   "language": "python",
   "name": "python2"
  },
  "language_info": {
   "codemirror_mode": {
    "name": "ipython",
    "version": 2
   },
   "file_extension": ".py",
   "mimetype": "text/x-python",
   "name": "python",
   "nbconvert_exporter": "python",
   "pygments_lexer": "ipython2",
   "version": "2.7.16"
  }
 },
 "nbformat": 4,
 "nbformat_minor": 2
}
