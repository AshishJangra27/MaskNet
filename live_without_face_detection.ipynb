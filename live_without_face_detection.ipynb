{
 "cells": [
  {
   "cell_type": "code",
   "execution_count": 23,
   "metadata": {},
   "outputs": [],
   "source": [
    "import cv2 as cv\n",
    "import numpy as np\n",
    "\n",
    "\n",
    "from keras.models import load_model\n",
    "from tensorflow.keras.applications.mobilenet import preprocess_input\n",
    "\n",
    "mdl = load_model('MaskNet.hdf5')"
   ]
  },
  {
   "cell_type": "code",
   "execution_count": 26,
   "metadata": {},
   "outputs": [],
   "source": [
    "cap = cv.VideoCapture(0)\n",
    "\n",
    "while True:\n",
    "    \n",
    "    _, img = cap.read()\n",
    "    img = cv.flip(img , 1)\n",
    "    \n",
    "    im = cv.cvtColor(img, cv.COLOR_BGR2RGB)\n",
    "    im = im[:,200:-200,:]\n",
    "    im = cv.resize(im, (224,224))\n",
    "    im = np.expand_dims(im, axis = 0)\n",
    "\n",
    "    im = preprocess_input(im)\n",
    "\n",
    "    if np.argmax(mdl.predict(im)) == 0:\n",
    "         cv.putText(img,'Masked',(200,200), cv.FONT_HERSHEY_SCRIPT_COMPLEX, 7,(0,255,0))\n",
    "    else:\n",
    "        cv.putText(img,'UnMasked',(200,200), cv.FONT_HERSHEY_SCRIPT_COMPLEX, 7,(0,0,255))\n",
    "\n",
    "    cv.imshow('img', img)\n",
    "\n",
    "    k = cv.waitKey(30)\n",
    "    if k==27:\n",
    "        break"
   ]
  },
  {
   "cell_type": "code",
   "execution_count": 22,
   "metadata": {},
   "outputs": [],
   "source": [
    "cap.release()"
   ]
  },
  {
   "cell_type": "code",
   "execution_count": null,
   "metadata": {},
   "outputs": [],
   "source": []
  }
 ],
 "metadata": {
  "kernelspec": {
   "display_name": "Python 2",
   "language": "python",
   "name": "python2"
  },
  "language_info": {
   "codemirror_mode": {
    "name": "ipython",
    "version": 2
   },
   "file_extension": ".py",
   "mimetype": "text/x-python",
   "name": "python",
   "nbconvert_exporter": "python",
   "pygments_lexer": "ipython2",
   "version": "2.7.16"
  }
 },
 "nbformat": 4,
 "nbformat_minor": 2
}
